{
 "cells": [
  {
   "cell_type": "code",
   "execution_count": 1,
   "metadata": {
    "collapsed": true
   },
   "outputs": [],
   "source": [
    "import numpy as np\n",
    "import pandas as pd\n",
    "import gensim\n",
    "import os\n",
    "from gensim.models.word2vec import LineSentence\n",
    "from gensim.models.fasttext import FastText as FT_gensim"
   ]
  },
  {
   "cell_type": "code",
   "execution_count": 2,
   "metadata": {},
   "outputs": [
    {
     "ename": "KeyboardInterrupt",
     "evalue": "",
     "output_type": "error",
     "traceback": [
      "\u001b[0;31m---------------------------------------------------------------------------\u001b[0m",
      "\u001b[0;31mKeyboardInterrupt\u001b[0m                         Traceback (most recent call last)",
      "\u001b[0;32m<ipython-input-2-45c27863b071>\u001b[0m in \u001b[0;36m<module>\u001b[0;34m()\u001b[0m\n\u001b[0;32m----> 1\u001b[0;31m \u001b[0mf\u001b[0m \u001b[0;34m=\u001b[0m \u001b[0mFT_gensim\u001b[0m\u001b[0;34m.\u001b[0m\u001b[0mload_fasttext_format\u001b[0m\u001b[0;34m(\u001b[0m\u001b[0;34m'/Volumes/TBHDELI/Engage/wiki.en'\u001b[0m\u001b[0;34m)\u001b[0m\u001b[0;34m\u001b[0m\u001b[0m\n\u001b[0m\u001b[1;32m      2\u001b[0m \u001b[0;31m#f = FT_gensim.load_fasttext_format('/Volumes/TBHDELI/Engage/wiki.en.vec')\u001b[0m\u001b[0;34m\u001b[0m\u001b[0;34m\u001b[0m\u001b[0m\n",
      "\u001b[0;32m/Users/eliselkin/anaconda/envs/python2/lib/python2.7/site-packages/gensim/models/fasttext.pyc\u001b[0m in \u001b[0;36mload_fasttext_format\u001b[0;34m(cls, *args, **kwargs)\u001b[0m\n\u001b[1;32m    225\u001b[0m     \u001b[0;34m@\u001b[0m\u001b[0mclassmethod\u001b[0m\u001b[0;34m\u001b[0m\u001b[0m\n\u001b[1;32m    226\u001b[0m     \u001b[0;32mdef\u001b[0m \u001b[0mload_fasttext_format\u001b[0m\u001b[0;34m(\u001b[0m\u001b[0mcls\u001b[0m\u001b[0;34m,\u001b[0m \u001b[0;34m*\u001b[0m\u001b[0margs\u001b[0m\u001b[0;34m,\u001b[0m \u001b[0;34m**\u001b[0m\u001b[0mkwargs\u001b[0m\u001b[0;34m)\u001b[0m\u001b[0;34m:\u001b[0m\u001b[0;34m\u001b[0m\u001b[0m\n\u001b[0;32m--> 227\u001b[0;31m         \u001b[0;32mreturn\u001b[0m \u001b[0mFt_Wrapper\u001b[0m\u001b[0;34m.\u001b[0m\u001b[0mload_fasttext_format\u001b[0m\u001b[0;34m(\u001b[0m\u001b[0;34m*\u001b[0m\u001b[0margs\u001b[0m\u001b[0;34m,\u001b[0m \u001b[0;34m**\u001b[0m\u001b[0mkwargs\u001b[0m\u001b[0;34m)\u001b[0m\u001b[0;34m\u001b[0m\u001b[0m\n\u001b[0m\u001b[1;32m    228\u001b[0m \u001b[0;34m\u001b[0m\u001b[0m\n\u001b[1;32m    229\u001b[0m     \u001b[0;32mdef\u001b[0m \u001b[0msave\u001b[0m\u001b[0;34m(\u001b[0m\u001b[0mself\u001b[0m\u001b[0;34m,\u001b[0m \u001b[0;34m*\u001b[0m\u001b[0margs\u001b[0m\u001b[0;34m,\u001b[0m \u001b[0;34m**\u001b[0m\u001b[0mkwargs\u001b[0m\u001b[0;34m)\u001b[0m\u001b[0;34m:\u001b[0m\u001b[0;34m\u001b[0m\u001b[0m\n",
      "\u001b[0;32m/Users/eliselkin/anaconda/envs/python2/lib/python2.7/site-packages/gensim/models/wrappers/fasttext.pyc\u001b[0m in \u001b[0;36mload_fasttext_format\u001b[0;34m(cls, model_file, encoding)\u001b[0m\n\u001b[1;32m    249\u001b[0m             \u001b[0mmodel_file\u001b[0m \u001b[0;34m+=\u001b[0m \u001b[0;34m'.bin'\u001b[0m\u001b[0;34m\u001b[0m\u001b[0m\n\u001b[1;32m    250\u001b[0m         \u001b[0mmodel\u001b[0m\u001b[0;34m.\u001b[0m\u001b[0mfile_name\u001b[0m \u001b[0;34m=\u001b[0m \u001b[0mmodel_file\u001b[0m\u001b[0;34m\u001b[0m\u001b[0m\n\u001b[0;32m--> 251\u001b[0;31m         \u001b[0mmodel\u001b[0m\u001b[0;34m.\u001b[0m\u001b[0mload_binary_data\u001b[0m\u001b[0;34m(\u001b[0m\u001b[0mencoding\u001b[0m\u001b[0;34m=\u001b[0m\u001b[0mencoding\u001b[0m\u001b[0;34m)\u001b[0m\u001b[0;34m\u001b[0m\u001b[0m\n\u001b[0m\u001b[1;32m    252\u001b[0m         \u001b[0;32mreturn\u001b[0m \u001b[0mmodel\u001b[0m\u001b[0;34m\u001b[0m\u001b[0m\n\u001b[1;32m    253\u001b[0m \u001b[0;34m\u001b[0m\u001b[0m\n",
      "\u001b[0;32m/Users/eliselkin/anaconda/envs/python2/lib/python2.7/site-packages/gensim/models/wrappers/fasttext.pyc\u001b[0m in \u001b[0;36mload_binary_data\u001b[0;34m(self, encoding)\u001b[0m\n\u001b[1;32m    267\u001b[0m             \u001b[0mself\u001b[0m\u001b[0;34m.\u001b[0m\u001b[0mload_model_params\u001b[0m\u001b[0;34m(\u001b[0m\u001b[0mf\u001b[0m\u001b[0;34m)\u001b[0m\u001b[0;34m\u001b[0m\u001b[0m\n\u001b[1;32m    268\u001b[0m             \u001b[0mself\u001b[0m\u001b[0;34m.\u001b[0m\u001b[0mload_dict\u001b[0m\u001b[0;34m(\u001b[0m\u001b[0mf\u001b[0m\u001b[0;34m,\u001b[0m \u001b[0mencoding\u001b[0m\u001b[0;34m=\u001b[0m\u001b[0mencoding\u001b[0m\u001b[0;34m)\u001b[0m\u001b[0;34m\u001b[0m\u001b[0m\n\u001b[0;32m--> 269\u001b[0;31m             \u001b[0mself\u001b[0m\u001b[0;34m.\u001b[0m\u001b[0mload_vectors\u001b[0m\u001b[0;34m(\u001b[0m\u001b[0mf\u001b[0m\u001b[0;34m)\u001b[0m\u001b[0;34m\u001b[0m\u001b[0m\n\u001b[0m\u001b[1;32m    270\u001b[0m \u001b[0;34m\u001b[0m\u001b[0m\n\u001b[1;32m    271\u001b[0m     \u001b[0;32mdef\u001b[0m \u001b[0mload_model_params\u001b[0m\u001b[0;34m(\u001b[0m\u001b[0mself\u001b[0m\u001b[0;34m,\u001b[0m \u001b[0mfile_handle\u001b[0m\u001b[0;34m)\u001b[0m\u001b[0;34m:\u001b[0m\u001b[0;34m\u001b[0m\u001b[0m\n",
      "\u001b[0;32m/Users/eliselkin/anaconda/envs/python2/lib/python2.7/site-packages/gensim/models/wrappers/fasttext.pyc\u001b[0m in \u001b[0;36mload_vectors\u001b[0;34m(self, file_handle)\u001b[0m\n\u001b[1;32m    353\u001b[0m             )\n\u001b[1;32m    354\u001b[0m \u001b[0;34m\u001b[0m\u001b[0m\n\u001b[0;32m--> 355\u001b[0;31m         \u001b[0mself\u001b[0m\u001b[0;34m.\u001b[0m\u001b[0minit_ngrams\u001b[0m\u001b[0;34m(\u001b[0m\u001b[0;34m)\u001b[0m\u001b[0;34m\u001b[0m\u001b[0m\n\u001b[0m\u001b[1;32m    356\u001b[0m \u001b[0;34m\u001b[0m\u001b[0m\n\u001b[1;32m    357\u001b[0m     \u001b[0;32mdef\u001b[0m \u001b[0mstruct_unpack\u001b[0m\u001b[0;34m(\u001b[0m\u001b[0mself\u001b[0m\u001b[0;34m,\u001b[0m \u001b[0mfile_handle\u001b[0m\u001b[0;34m,\u001b[0m \u001b[0mfmt\u001b[0m\u001b[0;34m)\u001b[0m\u001b[0;34m:\u001b[0m\u001b[0;34m\u001b[0m\u001b[0m\n",
      "\u001b[0;32m/Users/eliselkin/anaconda/envs/python2/lib/python2.7/site-packages/gensim/models/wrappers/fasttext.pyc\u001b[0m in \u001b[0;36minit_ngrams\u001b[0;34m(self)\u001b[0m\n\u001b[1;32m    393\u001b[0m             \u001b[0mword_ngrams\u001b[0m \u001b[0;34m=\u001b[0m \u001b[0mcompute_ngrams\u001b[0m\u001b[0;34m(\u001b[0m\u001b[0mw\u001b[0m\u001b[0;34m,\u001b[0m \u001b[0mself\u001b[0m\u001b[0;34m.\u001b[0m\u001b[0mwv\u001b[0m\u001b[0;34m.\u001b[0m\u001b[0mmin_n\u001b[0m\u001b[0;34m,\u001b[0m \u001b[0mself\u001b[0m\u001b[0;34m.\u001b[0m\u001b[0mwv\u001b[0m\u001b[0;34m.\u001b[0m\u001b[0mmax_n\u001b[0m\u001b[0;34m)\u001b[0m\u001b[0;34m\u001b[0m\u001b[0m\n\u001b[1;32m    394\u001b[0m             \u001b[0;32mfor\u001b[0m \u001b[0mword_ngram\u001b[0m \u001b[0;32min\u001b[0m \u001b[0mword_ngrams\u001b[0m\u001b[0;34m:\u001b[0m\u001b[0;34m\u001b[0m\u001b[0m\n\u001b[0;32m--> 395\u001b[0;31m                 \u001b[0mself\u001b[0m\u001b[0;34m.\u001b[0m\u001b[0mwv\u001b[0m\u001b[0;34m.\u001b[0m\u001b[0msyn0\u001b[0m\u001b[0;34m[\u001b[0m\u001b[0mvocab\u001b[0m\u001b[0;34m.\u001b[0m\u001b[0mindex\u001b[0m\u001b[0;34m]\u001b[0m \u001b[0;34m+=\u001b[0m \u001b[0mnp\u001b[0m\u001b[0;34m.\u001b[0m\u001b[0marray\u001b[0m\u001b[0;34m(\u001b[0m\u001b[0mngram_weights\u001b[0m\u001b[0;34m[\u001b[0m\u001b[0mself\u001b[0m\u001b[0;34m.\u001b[0m\u001b[0mwv\u001b[0m\u001b[0;34m.\u001b[0m\u001b[0mngrams\u001b[0m\u001b[0;34m[\u001b[0m\u001b[0mword_ngram\u001b[0m\u001b[0;34m]\u001b[0m\u001b[0;34m]\u001b[0m\u001b[0;34m)\u001b[0m\u001b[0;34m\u001b[0m\u001b[0m\n\u001b[0m\u001b[1;32m    396\u001b[0m \u001b[0;34m\u001b[0m\u001b[0m\n\u001b[1;32m    397\u001b[0m             \u001b[0mself\u001b[0m\u001b[0;34m.\u001b[0m\u001b[0mwv\u001b[0m\u001b[0;34m.\u001b[0m\u001b[0msyn0\u001b[0m\u001b[0;34m[\u001b[0m\u001b[0mvocab\u001b[0m\u001b[0;34m.\u001b[0m\u001b[0mindex\u001b[0m\u001b[0;34m]\u001b[0m \u001b[0;34m/=\u001b[0m \u001b[0;34m(\u001b[0m\u001b[0mlen\u001b[0m\u001b[0;34m(\u001b[0m\u001b[0mword_ngrams\u001b[0m\u001b[0;34m)\u001b[0m \u001b[0;34m+\u001b[0m \u001b[0;36m1\u001b[0m\u001b[0;34m)\u001b[0m\u001b[0;34m\u001b[0m\u001b[0m\n",
      "\u001b[0;31mKeyboardInterrupt\u001b[0m: "
     ]
    }
   ],
   "source": [
    "f = FT_gensim.load_fasttext_format('/Volumes/TBHDELI/Engage/wiki.en')\n",
    "#f = FT_gensim. ('/Volumes/TBHDELI/Engage/wiki.en.vec')"
   ]
  },
  {
   "cell_type": "code",
   "execution_count": 8,
   "metadata": {
    "collapsed": true
   },
   "outputs": [],
   "source": [
    "words = ft"
   ]
  },
  {
   "cell_type": "code",
   "execution_count": 9,
   "metadata": {},
   "outputs": [
    {
     "name": "stdout",
     "output_type": "stream",
     "text": [
      "2519370\n"
     ]
    }
   ],
   "source": [
    "print(len(words))"
   ]
  },
  {
   "cell_type": "code",
   "execution_count": 17,
   "metadata": {
    "scrolled": true
   },
   "outputs": [
    {
     "name": "stdout",
     "output_type": "stream",
     "text": [
      "[ -2.14817766e-02   2.62453798e-02  -3.01529709e-02   2.79061142e-02\n",
      "  -4.65217419e-02   2.45412309e-02   1.10305129e-02  -2.96038333e-02\n",
      "   2.60435920e-02   5.01870513e-02   1.00807110e-02  -4.13676351e-03\n",
      "  -1.59209650e-02  -1.24752074e-02  -2.82836700e-04  -1.12158144e-02\n",
      "  -3.02123427e-02  -2.75955983e-02   2.33437493e-03   4.44553234e-02\n",
      "  -3.81975360e-02   2.69468483e-02  -6.29167184e-02  -3.60104404e-02\n",
      "  -1.50013538e-02  -2.58363336e-02  -1.86560042e-02   3.59871536e-02\n",
      "  -1.48672909e-02   1.86837502e-02  -2.77982503e-02   8.64295587e-02\n",
      "  -7.07445368e-02  -6.34830096e-04   1.69425942e-02  -5.83725423e-03\n",
      "   7.99887907e-03  -7.68483384e-03  -1.59402378e-02  -2.93896981e-02\n",
      "   2.02552006e-02   2.33543906e-02   3.65930813e-04  -4.06770129e-03\n",
      "  -8.61606654e-03   3.43467183e-02   2.65762638e-02   4.50174063e-02\n",
      "  -2.41460893e-02  -2.33711023e-02   6.25194311e-02  -3.66067700e-02\n",
      "   3.24131362e-02  -5.56381829e-02  -9.10159759e-03   4.08665650e-02\n",
      "  -1.26888172e-03   3.67727280e-02   2.02457737e-02   2.42510196e-02\n",
      "  -2.99688266e-03  -5.12861125e-02   2.61308998e-02  -6.99405698e-03\n",
      "  -2.18297131e-02  -4.99984585e-02  -4.40045558e-02   4.27177548e-02\n",
      "   4.41016071e-02   1.20283561e-02  -4.83903512e-02   3.41481641e-02\n",
      "   4.31426391e-02   6.16081088e-05  -6.01452366e-02   1.33451493e-02\n",
      "   3.28269266e-02   3.45873125e-02   1.79723091e-03   1.15775084e-02\n",
      "  -1.19685233e-02   2.36646663e-02  -6.96790230e-04  -2.45156288e-02\n",
      "   1.01762852e-02  -2.68102288e-02  -5.27592711e-02   3.12347654e-02\n",
      "  -1.29857725e-02  -1.52668897e-02   3.20620500e-02   7.87451956e-03\n",
      "   7.34412298e-02  -5.28549962e-02   3.64715643e-02  -2.10138820e-02\n",
      "  -1.06683024e-03  -1.15790404e-03  -1.36528835e-02  -1.41231632e-02\n",
      "  -2.83010807e-02  -2.54807603e-02   4.11890745e-02   3.04210484e-02\n",
      "  -3.07305437e-02  -2.38220897e-02  -7.19893426e-02   4.89296094e-02\n",
      "  -8.78039096e-03  -3.79175763e-03  -1.28872273e-02  -1.57498196e-02\n",
      "  -6.01915792e-02  -1.88764315e-02   2.06633992e-02  -5.10089099e-02\n",
      "   3.88918109e-02   3.52349877e-02   2.66865883e-02   3.66413668e-02\n",
      "   5.27319424e-02   1.53458985e-02  -2.07275283e-02   1.17108881e-01\n",
      "   3.79598141e-03  -1.00745680e-02   1.12149213e-02   2.51141936e-03\n",
      "  -1.48684978e-02   4.94402945e-02  -8.09492916e-03   7.24739060e-02\n",
      "   1.03289383e-02   2.25142459e-03   2.73432378e-02  -2.42818426e-02\n",
      "  -1.32821351e-02   1.11160967e-02   3.99580458e-03   5.17581366e-02\n",
      "  -6.44462323e-03   3.52799483e-02   6.04601391e-02   3.53768672e-04\n",
      "   2.67444011e-02   3.64187248e-02  -4.54653278e-02  -3.06525528e-02\n",
      "  -1.10829920e-02  -2.45783050e-02   3.70035246e-02  -3.12181171e-02\n",
      "  -1.43153984e-02  -5.97986579e-02  -3.62118892e-02  -9.05005820e-03\n",
      "   1.78909581e-02  -8.60473793e-03   7.69711211e-02  -1.03360005e-02\n",
      "  -7.53456354e-03   6.51891232e-02  -6.91457093e-02  -1.33643989e-02\n",
      "   3.67506370e-02   3.35552394e-02  -4.91875038e-03  -5.03312945e-02\n",
      "   4.30358015e-02  -7.55443890e-03  -3.81264016e-02  -4.62386087e-02\n",
      "  -5.06086946e-02  -1.98551696e-02  -1.04083046e-02   2.81529073e-02\n",
      "  -1.59145296e-02   2.55991202e-02   1.06211659e-03  -4.83753756e-02\n",
      "   3.27411294e-02   3.46329994e-02   3.18042785e-02   5.90098090e-02\n",
      "  -3.22272442e-02   5.74154630e-02   1.36437062e-02  -6.04499355e-02\n",
      "   5.29677384e-02  -7.84951728e-03   1.38052199e-02  -1.15230441e-01\n",
      "   4.93467860e-02   7.96636194e-02   6.88309956e-04  -1.59374960e-02\n",
      "   1.81234330e-02  -1.81926042e-02  -8.94244984e-02   5.09166485e-03\n",
      "   7.05455169e-02  -1.35892546e-02  -5.91730350e-04  -2.19009444e-02\n",
      "  -4.46999855e-02  -4.75095920e-02  -4.55671549e-02   1.03376051e-02\n",
      "   1.53919924e-02   5.64095145e-03   6.17458001e-02   3.24605070e-02\n",
      "   7.41286064e-03  -8.39748699e-03   1.30375847e-02  -4.80124652e-02\n",
      "  -3.07076219e-02  -7.36843497e-02  -5.61962016e-02   2.12425739e-03\n",
      "  -3.59466560e-02  -3.29837166e-02  -2.30485667e-02  -1.87117793e-02\n",
      "   5.85714839e-02   1.11888479e-02  -4.65561673e-02   2.21952815e-02\n",
      "  -1.72130857e-02   1.50149781e-02   2.16543134e-02   1.40072256e-02\n",
      "  -2.32527461e-02  -8.28847196e-03  -4.79585454e-02   2.88001131e-02\n",
      "  -1.36753647e-02  -1.65729281e-02  -2.79912259e-02   2.79230042e-03\n",
      "  -1.79465208e-02   1.32356975e-02   5.71598485e-02  -1.14152031e-02\n",
      "   2.57417057e-02   5.64193428e-02   6.55976683e-02   3.15468870e-02\n",
      "  -8.17468576e-03  -1.55275036e-02   2.13878062e-02   4.86423960e-03\n",
      "  -3.30117941e-02  -8.08777567e-03   1.78331528e-02  -2.51582321e-02\n",
      "  -3.48155312e-02  -5.31006046e-02   6.73020408e-02  -2.21543796e-02\n",
      "  -3.70051269e-03   5.33173978e-02   5.78292906e-02  -3.71193774e-02\n",
      "  -4.27147001e-02  -6.47856370e-02   2.43137195e-03   8.24610144e-02\n",
      "  -3.63314413e-02  -6.20626286e-02  -4.53927033e-02   3.47157530e-02\n",
      "   2.22095288e-02   1.95226893e-02  -3.22197229e-02  -5.35428189e-02\n",
      "   2.98725702e-02   3.38113010e-02   2.15398590e-03  -1.38213364e-02\n",
      "   5.81609122e-02   3.29501368e-02   1.18909897e-02  -3.99142690e-02\n",
      "   1.90396160e-02  -4.98029776e-02   3.40392105e-02   5.64560369e-02\n",
      "  -4.35807072e-02   7.98200723e-03   1.17638726e-02  -2.67876144e-02\n",
      "  -7.06759840e-03  -4.60453406e-02  -1.39899552e-04  -4.87470739e-02\n",
      "   6.68963743e-03   4.50239144e-02   4.65239845e-02   3.32974503e-03]\n"
     ]
    }
   ],
   "source": [
    "x = f.get_sentence_vector('This is a cool sentence')\n",
    "print(x)"
   ]
  },
  {
   "cell_type": "code",
   "execution_count": 16,
   "metadata": {},
   "outputs": [
    {
     "data": {
      "text/plain": [
       "(0L, nan, nan)"
      ]
     },
     "execution_count": 16,
     "metadata": {},
     "output_type": "execute_result"
    }
   ],
   "source": [
    "f.test('test.txt')"
   ]
  },
  {
   "cell_type": "code",
   "execution_count": null,
   "metadata": {
    "collapsed": true
   },
   "outputs": [],
   "source": [
    "f."
   ]
  }
 ],
 "metadata": {
  "kernelspec": {
   "display_name": "Python 2",
   "language": "python",
   "name": "python2"
  },
  "language_info": {
   "codemirror_mode": {
    "name": "ipython",
    "version": 2
   },
   "file_extension": ".py",
   "mimetype": "text/x-python",
   "name": "python",
   "nbconvert_exporter": "python",
   "pygments_lexer": "ipython2",
   "version": "2.7.14"
  }
 },
 "nbformat": 4,
 "nbformat_minor": 2
}
